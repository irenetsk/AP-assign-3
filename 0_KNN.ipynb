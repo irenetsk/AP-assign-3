{
  "nbformat": 4,
  "nbformat_minor": 0,
  "metadata": {
    "colab": {
      "name": "0-KNN",
      "provenance": [],
      "authorship_tag": "ABX9TyObZruSUs2jtU8QesvzeWjD",
      "include_colab_link": true
    },
    "kernelspec": {
      "name": "python3",
      "display_name": "Python 3"
    },
    "language_info": {
      "name": "python"
    }
  },
  "cells": [
    {
      "cell_type": "markdown",
      "metadata": {
        "id": "view-in-github",
        "colab_type": "text"
      },
      "source": [
        "<a href=\"https://colab.research.google.com/github/irenetsk/AP-assign-3/blob/master/0_KNN.ipynb\" target=\"_parent\"><img src=\"https://colab.research.google.com/assets/colab-badge.svg\" alt=\"Open In Colab\"/></a>"
      ]
    },
    {
      "cell_type": "markdown",
      "source": [
        "#K-Neighbours Classifier\n",
        "https://scikit-learn.org/stable/modules/generated/sklearn.neighbors.KNeighborsClassifier"
      ],
      "metadata": {
        "id": "-VcFBrsjMRAw"
      }
    },
    {
      "cell_type": "markdown",
      "source": [
        "## KNN with all 4 classes (**Fine-grained** Classification)"
      ],
      "metadata": {
        "id": "fRgWH25wef4H"
      }
    },
    {
      "cell_type": "markdown",
      "source": [
        "### Imports"
      ],
      "metadata": {
        "id": "FsBF2lVN0Xtz"
      }
    },
    {
      "cell_type": "code",
      "source": [
        "from google.colab import drive\n",
        "drive.mount('/content/drive')\n",
        "%cd drive/My Drive/\n",
        "! pip install umap-learn\n",
        "! pip install -U sentence-transformers"
      ],
      "metadata": {
        "id": "zoz315Ga4_11"
      },
      "execution_count": null,
      "outputs": []
    },
    {
      "cell_type": "code",
      "execution_count": null,
      "metadata": {
        "id": "EOxMBeSY4RDj"
      },
      "outputs": [],
      "source": [
        "from sentence_transformers import SentenceTransformer\n",
        "model = SentenceTransformer('paraphrase-MiniLM-L6-v2')"
      ]
    },
    {
      "cell_type": "markdown",
      "source": [
        "### Training Set Creation\n",
        "1 = Enthusiastic / 2 = Neutral / 3 = Sad / 4 = Angry\n"
      ],
      "metadata": {
        "id": "6RcfmRBjMzcW"
      }
    },
    {
      "cell_type": "code",
      "source": [
        "# READSPEAKER SENTENCES\n",
        "angrysents = []\n",
        "with open(\"./thesis/readspeaker_annots/emotion_02_anger.txt\", encoding='utf-8') as f:\n",
        "  f = (f.read()).split(\"\\n\")\n",
        "  for sent in f:\n",
        "    angrysents.append(sent)\n",
        "angrylabels = [4 for i in range(len(angrysents))]\n",
        "\n",
        "enthusents = []\n",
        "with open(\"./thesis/readspeaker_annots/emotion_03_happy.txt\", encoding='utf-8') as f:\n",
        "  f = (f.read()).split(\"\\n\")\n",
        "  for sent in f:\n",
        "    enthusents.append(sent)\n",
        "enthulabels = [1 for i in range(len(enthusents))]\n",
        "\n",
        "sadsents = []\n",
        "with open(\"./thesis/readspeaker_annots/emotion_04_sadness.txt\", encoding='utf-8') as f:\n",
        "  f = (f.read()).split(\"\\n\")\n",
        "  for sent in f:\n",
        "    sadsents.append(sent)\n",
        "sadlabels = [3 for i in range(len(sadsents))]\n",
        "\n",
        "# MY ANNOTATIONS\n",
        "trainsents = []\n",
        "with open(\"./thesis/myannotations/sents.txt\", encoding='utf-8') as f:\n",
        "  f = (f.read()).split(\"\\n\")\n",
        "  for sent in f:\n",
        "    trainsents.append(sent)\n",
        "\n",
        "trainlabels = []\n",
        "with open(\"./thesis/myannotations/labels.txt\", encoding='utf-8') as f:\n",
        "  f = (f.read()).split(\"\\n\")\n",
        "  for label in f:\n",
        "    trainlabels.append(label)\n",
        "\n",
        "with open(\"./thesis/myannotations/moreneutral_sents.txt\", encoding='utf-8') as f:\n",
        "  f = (f.read()).split(\"\\n\")\n",
        "  for sent in f:\n",
        "    trainsents.append(sent)\n",
        "  for i in range(len(f)):\n",
        "    trainlabels.append('2')\n",
        "\n",
        "rs_sents = angrysents + enthusents + sadsents\n",
        "rs_labels = angrylabels + enthulabels + sadlabels"
      ],
      "metadata": {
        "id": "k3OtDSvmvnsI"
      },
      "execution_count": null,
      "outputs": []
    },
    {
      "cell_type": "code",
      "source": [
        "# print(f'enthusiastic: \\t{len(enthusents)} \\nsad: \\t\\t{len(sadsents)}\\nangry: \\t\\t{len(angrysents)}\\nmy annotations: {len(trainsents)}\\ntotal: \\t\\t{sum([len(angrysents), len(enthusents), len(sadsents), len(trainsents)])}')"
      ],
      "metadata": {
        "id": "sARtP_0LOG7t"
      },
      "execution_count": null,
      "outputs": []
    },
    {
      "cell_type": "code",
      "source": [
        "trainsentsind = dict()\n",
        "allsentences = list()\n",
        "\n",
        "with open(\"thesis/corpora/eng-simple_wikipedia_2021_10K-sentences.txt\", encoding='utf-8') as f1:\n",
        "  f1 = (f1.read()).split(\"\\n\")\n",
        "  with open(\"thesis/corpora/eng-uk_web-public_2018_10K-sentences.txt\", encoding='utf-8') as f2:\n",
        "    f2 = (f2.read()).split(\"\\n\")\n",
        "    for i, line in enumerate(f1+f2):\n",
        "        sent = (line[(len(str(i+1))):]).strip()             #removes the line number and the tab char\n",
        "        if sent in trainsents:\n",
        "          trainsentsind[sent] = i\n",
        "        allsentences.append(sent)\n",
        "\n",
        "track = len(allsentences)\n",
        "for i, sent in enumerate(rs_sents):\n",
        "  allsentences.append(sent)\n",
        "  trainsentsind[sent] = track + i\n",
        "\n",
        "embeddings = model.encode(allsentences)"
      ],
      "metadata": {
        "id": "kPFS5WRs45QO"
      },
      "execution_count": null,
      "outputs": []
    },
    {
      "cell_type": "code",
      "source": [
        "# len(allsentences)"
      ],
      "metadata": {
        "id": "7dx3SdtavcMS"
      },
      "execution_count": null,
      "outputs": []
    },
    {
      "cell_type": "code",
      "source": [
        "X_train = np.array([embeddings[trainsentsind[sent]] for sent in trainsents+rs_sents])\n",
        "y_train = [int(element) for element in trainlabels+rs_labels]"
      ],
      "metadata": {
        "id": "Xs5zSXloz3T5"
      },
      "execution_count": null,
      "outputs": []
    },
    {
      "cell_type": "code",
      "source": [
        "# from collections import Counter\n",
        "# a = dict(Counter(alltrainlabels))\n",
        "# a"
      ],
      "metadata": {
        "id": "S10KxVTuYI_8"
      },
      "execution_count": null,
      "outputs": []
    },
    {
      "cell_type": "markdown",
      "source": [
        "### Dataset Split"
      ],
      "metadata": {
        "id": "cheznZfnM36F"
      }
    },
    {
      "cell_type": "code",
      "source": [
        "from sklearn.model_selection import train_test_split\n",
        "X_train, X_test, y_train, y_test = train_test_split(X_train, y_train, random_state=42, train_size=0.65)"
      ],
      "metadata": {
        "id": "DDMeMPYPSlng"
      },
      "execution_count": null,
      "outputs": []
    },
    {
      "cell_type": "code",
      "source": [
        "from sklearn.neighbors import KNeighborsClassifier\n",
        "neigh = KNeighborsClassifier(weights='distance', algorithm='auto')\n",
        "neigh.fit(X_train, y_train)\n",
        "y_pred = neigh.predict(X_test)\n",
        "print(neigh.score(X_test, y_test))"
      ],
      "metadata": {
        "id": "Ewqevz2y6u70",
        "colab": {
          "base_uri": "https://localhost:8080/"
        },
        "outputId": "567268be-3571-4d42-fd5d-bfee6ca19919"
      },
      "execution_count": null,
      "outputs": [
        {
          "output_type": "stream",
          "name": "stdout",
          "text": [
            "0.5473568281938326\n"
          ]
        }
      ]
    },
    {
      "cell_type": "markdown",
      "source": [
        "### Grid search"
      ],
      "metadata": {
        "id": "IFA3xVkaJjqL"
      }
    },
    {
      "cell_type": "code",
      "source": [
        "# import numpy as np\n",
        "# import random\n",
        "# best_hyperparameters = None\n",
        "# grid = {'weights': ['uniform', 'distance'],\n",
        "#         'algorithm':['auto', 'ball_tree', 'kd_tree', 'brute']}\n",
        "# print(\"Weights:\\tAlgorithm:\\tTraining set accuracy:\")\n",
        "# for i in range(20):\n",
        "#   wt = grid['weights'][random.randint(0,1)]\n",
        "#   al = grid['algorithm'][random.randint(0,3)]\n",
        "#   model = KNeighborsClassifier(weights = wt, algorithm = al)\n",
        "#   model.fit(X_train, y_train)\n",
        "#   training_accuracy = model.score(X_test, y_test)\n",
        "#   if best_hyperparameters is None or best_hyperparameters[2] < training_accuracy:\n",
        "#     best_hyperparameters = (wt, al, training_accuracy)\n",
        "#   print(f\"{wt}\\t\\t{al}\\t\\t{training_accuracy}\")\n",
        "# best_weights = best_hyperparameters[0]\n",
        "# best_algorithm = best_hyperparameters[1]\n",
        "# print(f\"Best parameters:{best_weights}\\t{best_algorithm}\")"
      ],
      "metadata": {
        "id": "9_NyPIwnS6C3"
      },
      "execution_count": null,
      "outputs": []
    },
    {
      "cell_type": "markdown",
      "source": [
        "### Plot"
      ],
      "metadata": {
        "id": "p7yD_hw0McPI"
      }
    },
    {
      "cell_type": "code",
      "source": [
        "%matplotlib inline\n",
        "import numpy as np\n",
        "import matplotlib.pyplot as plt\n",
        "from mpl_toolkits import mplot3d\n",
        "\n",
        "u_labels = np.unique(y_pred)\n",
        "fig = plt.figure(figsize=(10,9))\n",
        "# ax = plt.axes(projection='3d')\n",
        "\n",
        "for i in u_labels:\n",
        "    plt.scatter(X_test[y_pred == i , 0], X_test[y_pred == i , 1], X_test[y_pred == i , 2],  label = i)\n",
        "plt.legend()\n",
        "plt.show()"
      ],
      "metadata": {
        "id": "JV2rp5GtAEmk",
        "colab": {
          "base_uri": "https://localhost:8080/",
          "height": 536
        },
        "outputId": "b384d36d-476c-402d-ae27-ef0d15a942fc"
      },
      "execution_count": null,
      "outputs": [
        {
          "output_type": "display_data",
          "data": {
            "text/plain": [
              "<Figure size 720x648 with 1 Axes>"
            ],
            "image/png": "[encoded data removed]"
          },
          "metadata": {
            "needs_background": "light"
          }
        }
      ]
    },
    {
      "cell_type": "markdown",
      "source": [
        "## Training/testing with only 3 classes (RS data)\n",
        "Score: **0.634011090573013**"
      ],
      "metadata": {
        "id": "GUVj32SQiUjp"
      }
    },
    {
      "cell_type": "code",
      "source": [
        "# model = SentenceTransformer('paraphrase-MiniLM-L6-v2')\n",
        "angrysents = []\n",
        "with open(\"./thesis/readspeaker_annots/emotion_02_anger.txt\", encoding='utf-8') as f:\n",
        "  f = (f.read()).split(\"\\n\")\n",
        "  for sent in f:    #[:-478]:\n",
        "    angrysents.append(sent)\n",
        "angrylabels = [4 for i in range(len(angrysents))]\n",
        "\n",
        "enthusents = []\n",
        "with open(\"./thesis/readspeaker_annots/emotion_03_happy.txt\", encoding='utf-8') as f:\n",
        "  f = (f.read()).split(\"\\n\")\n",
        "  for sent in f[:-50]:\n",
        "    enthusents.append(sent)\n",
        "enthulabels = [1 for i in range(len(enthusents))]\n",
        "\n",
        "sadsents = []\n",
        "with open(\"./thesis/readspeaker_annots/emotion_04_sadness.txt\", encoding='utf-8') as f:\n",
        "  f = (f.read()).split(\"\\n\")\n",
        "  for sent in f[:-38]:\n",
        "    sadsents.append(sent)\n",
        "sadlabels = [3 for i in range(len(sadsents))]\n",
        "\n",
        "X = angrysents + enthusents + sadsents\n",
        "y = angrylabels + enthulabels + sadlabels\n",
        "\n",
        "embeddings = model.encode(X)\n",
        "reducer = umap.UMAP(n_components=3)\n",
        "embedding = reducer.fit_transform(embeddings)\n",
        "\n",
        "X_train = np.array([embedding[i] for i, sent in enumerate(X)])\n",
        "y_train = y"
      ],
      "metadata": {
        "id": "AvoCFVmJdDCI"
      },
      "execution_count": null,
      "outputs": []
    },
    {
      "cell_type": "code",
      "source": [
        "# vec2sent = dict()\n",
        "# for i, sentence in enumerate(X):\n",
        "#   vec2sent[str(embedding[i])] = sentence"
      ],
      "metadata": {
        "id": "MsniKkRvfV82"
      },
      "execution_count": null,
      "outputs": []
    },
    {
      "cell_type": "code",
      "source": [
        "X_train, X_test, y_train, y_test = train_test_split(X_train, y_train, random_state=42, train_size=0.7)\n",
        "neigh = KNeighborsClassifier(weights='distance', algorithm='auto')      # weights='distance', algorithm='auto'\n",
        "neigh.fit(X_train, y_train)\n",
        "y_pred = neigh.predict(X_test)\n",
        "print(neigh.score(X_test, y_test))"
      ],
      "metadata": {
        "colab": {
          "base_uri": "https://localhost:8080/"
        },
        "id": "mO8Cs2Zwd_cR",
        "outputId": "18992211-af82-42d4-b6f5-b8d19f86bc9b"
      },
      "execution_count": null,
      "outputs": [
        {
          "output_type": "stream",
          "name": "stdout",
          "text": [
            "0.634011090573013\n"
          ]
        }
      ]
    },
    {
      "cell_type": "markdown",
      "source": [
        "## Training/testing with 3 classes positive-neutral-negative (RS data+neutralsents)\n",
        "Score: **0.8062730627306273**"
      ],
      "metadata": {
        "id": "UXX1HwY7lCV3"
      }
    },
    {
      "cell_type": "code",
      "source": [
        "# model = SentenceTransformer('paraphrase-MiniLM-L6-v2')\n",
        "\n",
        "enthusents = []\n",
        "with open(\"./thesis/readspeaker_annots/emotion_03_happy.txt\", encoding='utf-8') as f:\n",
        "  f = (f.read()).split(\"\\n\")\n",
        "  for sent in f[:-50]:\n",
        "    enthusents.append(sent)\n",
        "enthulabels = [0 for i in range(len(enthusents))]\n",
        "\n",
        "sadsents = []\n",
        "with open(\"./thesis/readspeaker_annots/emotion_04_sadness.txt\", encoding='utf-8') as f:\n",
        "  f = (f.read()).split(\"\\n\")\n",
        "  for sent in f[:-38]:\n",
        "    sadsents.append(sent)\n",
        "sadlabels = [2 for i in range(len(sadsents))]\n",
        "\n",
        "neutralsents = []\n",
        "with open(\"./thesis/myannotations/moreneutral_sents.txt\", encoding='utf-8') as f:\n",
        "  f = (f.read()).split(\"\\n\")\n",
        "  for sent in f:\n",
        "    neutralsents.append(sent)\n",
        "neutrallabels = [1 for i in range(len(neutralsents))]\n",
        "\n",
        "X = enthusents + neutralsents + sadsents\n",
        "y = enthulabels + neutrallabels + sadlabels\n",
        "\n",
        "embeddings = model.encode(X)\n",
        "reducer = umap.UMAP(n_components=3)\n",
        "embedding = reducer.fit_transform(embeddings)\n",
        "\n",
        "X_train = np.array([embedding[i] for i, sent in enumerate(X)])\n",
        "y_train = y"
      ],
      "metadata": {
        "id": "praSZwG0lEsc"
      },
      "execution_count": null,
      "outputs": []
    },
    {
      "cell_type": "code",
      "source": [
        "X_train, X_test, y_train, y_test = train_test_split(X_train, y_train, random_state=42, train_size=0.7)\n",
        "neigh = KNeighborsClassifier(weights='distance', algorithm='auto')      # weights='distance', algorithm='auto'\n",
        "neigh.fit(X_train, y_train)\n",
        "y_pred = neigh.predict(X_test)\n",
        "print(neigh.score(X_test, y_test))"
      ],
      "metadata": {
        "colab": {
          "base_uri": "https://localhost:8080/"
        },
        "id": "eav2acIwlcE3",
        "outputId": "9fbf7e86-f233-4b68-8591-efa863a32b82"
      },
      "execution_count": null,
      "outputs": [
        {
          "output_type": "stream",
          "name": "stdout",
          "text": [
            "0.8062730627306273\n"
          ]
        }
      ]
    },
    {
      "cell_type": "markdown",
      "source": [
        "## Train/test with 2 classes (**binary** classification)\n",
        "Score: **0.847457627118644**"
      ],
      "metadata": {
        "id": "xgtNH8jLilh7"
      }
    },
    {
      "cell_type": "code",
      "source": [
        "enthusents = []\n",
        "with open(\"./thesis/readspeaker_annots/emotion_03_happy.txt\", encoding='utf-8') as f:\n",
        "  f = (f.read()).split(\"\\n\")\n",
        "  for sent in f[:-50]:\n",
        "    enthusents.append(sent)\n",
        "enthulabels = [1 for i in range(len(enthusents))]\n",
        "\n",
        "sadsents = []\n",
        "with open(\"./thesis/readspeaker_annots/emotion_04_sadness.txt\", encoding='utf-8') as f:\n",
        "  f = (f.read()).split(\"\\n\")\n",
        "  for sent in f[:-38]:\n",
        "    sadsents.append(sent)\n",
        "sadlabels = [3 for i in range(len(sadsents))]\n",
        "\n",
        "X = enthusents + sadsents\n",
        "y = enthulabels + sadlabels\n",
        "\n",
        "embeddings = model.encode(X)\n",
        "reducer = umap.UMAP(n_components=3)\n",
        "embedding = reducer.fit_transform(embeddings)\n",
        "\n",
        "X_train = np.array([embedding[i] for i, sent in enumerate(X)])\n",
        "y_train = y"
      ],
      "metadata": {
        "id": "-Bv5Qw22insO"
      },
      "execution_count": null,
      "outputs": []
    },
    {
      "cell_type": "code",
      "source": [
        "X_train, X_test, y_train, y_test = train_test_split(X_train, y_train, random_state=42, train_size=0.7)\n",
        "neigh = KNeighborsClassifier(weights='distance', algorithm='auto')      # weights='distance', algorithm='auto'\n",
        "neigh.fit(X_train, y_train)\n",
        "y_pred = neigh.predict(X_test)\n",
        "print(neigh.score(X_test, y_test))"
      ],
      "metadata": {
        "colab": {
          "base_uri": "https://localhost:8080/"
        },
        "outputId": "25aba893-0d3d-4989-f859-8d8793288d7e",
        "id": "zAG1BTOvinsO"
      },
      "execution_count": null,
      "outputs": [
        {
          "output_type": "stream",
          "name": "stdout",
          "text": [
            "0.847457627118644\n"
          ]
        }
      ]
    },
    {
      "cell_type": "markdown",
      "source": [
        "## Train/test with 2 classes (comb happy+neut & ang+sad)\n",
        "Score: **0.8047091412742382**"
      ],
      "metadata": {
        "id": "AOB48j0Kjk0Z"
      }
    },
    {
      "cell_type": "code",
      "source": [
        "# model = SentenceTransformer('paraphrase-MiniLM-L6-v2')\n",
        "angrysents = []\n",
        "with open(\"./thesis/readspeaker_annots/emotion_02_anger.txt\", encoding='utf-8') as f:\n",
        "  f = (f.read()).split(\"\\n\")\n",
        "  for sent in f:    #[:-478]:\n",
        "    angrysents.append(sent)\n",
        "angrylabels = [2 for i in range(len(angrysents))]\n",
        "\n",
        "enthusents = []\n",
        "with open(\"./thesis/readspeaker_annots/emotion_03_happy.txt\", encoding='utf-8') as f:\n",
        "  f = (f.read()).split(\"\\n\")\n",
        "  for sent in f[:-50]:\n",
        "    enthusents.append(sent)\n",
        "enthulabels = [1 for i in range(len(enthusents))]\n",
        "\n",
        "sadsents = []\n",
        "with open(\"./thesis/readspeaker_annots/emotion_04_sadness.txt\", encoding='utf-8') as f:\n",
        "  f = (f.read()).split(\"\\n\")\n",
        "  for sent in f[:-38]:\n",
        "    sadsents.append(sent)\n",
        "sadlabels = [2 for i in range(len(sadsents))]\n",
        "\n",
        "neutralsents = []\n",
        "with open(\"./thesis/myannotations/moreneutral_sents.txt\", encoding='utf-8') as f:\n",
        "  f = (f.read()).split(\"\\n\")\n",
        "  for sent in f:\n",
        "    neutralsents.append(sent)\n",
        "neutrallabels = [1 for i in range(len(neutralsents))]\n",
        "\n",
        "\n",
        "\n",
        "X = enthusents + neutralsents + angrysents + sadsents\n",
        "y = enthulabels + neutrallabels + sadlabels + angrylabels\n",
        "\n",
        "embeddings = model.encode(X)\n",
        "reducer = umap.UMAP(n_components=3)\n",
        "embedding = reducer.fit_transform(embeddings)\n",
        "\n",
        "X_train = np.array([embedding[i] for i, sent in enumerate(X)])\n",
        "y_train = y"
      ],
      "metadata": {
        "id": "bW_0woUrjk0k"
      },
      "execution_count": null,
      "outputs": []
    },
    {
      "cell_type": "code",
      "source": [
        "X_train, X_test, y_train, y_test = train_test_split(X_train, y_train, random_state=42, train_size=0.7)\n",
        "neigh = KNeighborsClassifier(weights='distance', algorithm='auto')      # weights='distance', algorithm='auto'\n",
        "neigh.fit(X_train, y_train)\n",
        "y_pred = neigh.predict(X_test)\n",
        "print(neigh.score(X_test, y_test))"
      ],
      "metadata": {
        "colab": {
          "base_uri": "https://localhost:8080/"
        },
        "outputId": "15741c8d-6ead-4bc4-c270-5d62125845bc",
        "id": "-7aCe5YKjk0k"
      },
      "execution_count": null,
      "outputs": [
        {
          "output_type": "stream",
          "name": "stdout",
          "text": [
            "0.8047091412742382\n"
          ]
        }
      ]
    }
  ]
}